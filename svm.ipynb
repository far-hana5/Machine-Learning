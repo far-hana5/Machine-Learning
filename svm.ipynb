{
 "cells": [
  {
   "cell_type": "code",
   "execution_count": null,
   "id": "e144dfb6-8f5c-47a9-aabb-cccf98debea7",
   "metadata": {},
   "outputs": [],
   "source": [
    "# Load the important packages\n",
    "from sklearn.datasets import load_breast_cancer\n",
    "import matplotlib.pyplot as plt\n",
    "from sklearn.inspection import DecisionBoundaryDisplay\n",
    "from sklearn.svm import SVC\n",
    "\n",
    "# Load the datasets\n",
    "cancer = load_breast_cancer()\n",
    "X = cancer.data[:, :2]\n",
    "y = cancer.target\n",
    "\n",
    "#Build the model\n",
    "svm = SVC(kernel=\"rbf\", gamma=0.5, C=1.0)\n",
    "# Trained the model\n",
    "svm.fit(X, y)\n",
    "\n",
    "# Plot Decision Boundary\n",
    "DecisionBoundaryDisplay.from_estimator(\n",
    "        svm,\n",
    "        X,\n",
    "        response_method=\"predict\",\n",
    "        cmap=plt.cm.Spectral,\n",
    "        alpha=0.8,\n",
    "        xlabel=cancer.feature_names[0],\n",
    "        ylabel=cancer.feature_names[1],\n",
    "    )\n",
    "\n",
    "# Scatter plot\n",
    "plt.scatter(X[:, 0], X[:, 1], \n",
    "            c=y, \n",
    "            s=20, edgecolors=\"k\")\n",
    "plt.show()"
   ]
  }
 ],
 "metadata": {
  "kernelspec": {
   "display_name": "Python [conda env:base] *",
   "language": "python",
   "name": "conda-base-py"
  },
  "language_info": {
   "codemirror_mode": {
    "name": "ipython",
    "version": 3
   },
   "file_extension": ".py",
   "mimetype": "text/x-python",
   "name": "python",
   "nbconvert_exporter": "python",
   "pygments_lexer": "ipython3",
   "version": "3.12.7"
  }
 },
 "nbformat": 4,
 "nbformat_minor": 5
}
